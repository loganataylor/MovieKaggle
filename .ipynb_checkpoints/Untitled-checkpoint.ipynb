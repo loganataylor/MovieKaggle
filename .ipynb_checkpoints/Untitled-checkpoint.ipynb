{
 "cells": [
  {
   "cell_type": "code",
   "execution_count": 529,
   "metadata": {},
   "outputs": [],
   "source": [
    "import pandas as pd\n",
    "import numpy as np\n",
    "from sklearn.linear_model import LinearRegression\n",
    "from sklearn.preprocessing import StandardScaler\n",
    "from sklearn.model_selection import train_test_split\n",
    "import statsmodels.api as sm\n",
    "from sklearn.metrics import r2_score, mean_squared_error\n",
    "import re\n",
    "import timeit.timeit\n",
    "pd.set_option('display.max_rows', 30)\n",
    "pd.set_option('display.max_columns', 999)"
   ]
  },
  {
   "cell_type": "code",
   "execution_count": 557,
   "metadata": {},
   "outputs": [],
   "source": [
    "df = pd.read_csv('train.csv')"
   ]
  },
  {
   "cell_type": "code",
   "execution_count": 558,
   "metadata": {},
   "outputs": [],
   "source": [
    "#only 4 rumored movies and 2 with no runtime... have no revenue data so useless in our analysis\n",
    "df=df[df['status']=='Released']"
   ]
  },
  {
   "cell_type": "code",
   "execution_count": 559,
   "metadata": {},
   "outputs": [],
   "source": [
    "df['homepage'] = df['homepage'].fillna(value=0)\n",
    "\n",
    "# 1 if homepage, 0 if no homepage\n",
    "df['homepage'] = (df['homepage']!= 0).astype(int)"
   ]
  },
  {
   "cell_type": "code",
   "execution_count": 560,
   "metadata": {},
   "outputs": [],
   "source": [
    "df['belongs_to_collection'] = df['belongs_to_collection'].fillna(value=0)\n",
    "\n",
    "# 1 if collection, 0 if not\n",
    "df['belongs_to_collection'] = (df['belongs_to_collection']!= 0).astype(int)"
   ]
  },
  {
   "cell_type": "code",
   "execution_count": 561,
   "metadata": {},
   "outputs": [],
   "source": [
    "# 1 if english, 0 if not english\n",
    "df['original_language'] = (df['original_language']== 'en').astype(int)"
   ]
  },
  {
   "cell_type": "code",
   "execution_count": 562,
   "metadata": {},
   "outputs": [],
   "source": [
    "df['movie_age'] = 2019-pd.to_datetime(df['release_date']).dt.year\n",
    "#df = sm.add_constant(df)"
   ]
  },
  {
   "cell_type": "code",
   "execution_count": 563,
   "metadata": {},
   "outputs": [],
   "source": [
    "df.drop(columns=['imdb_id','poster_path','original_title','status','spoken_languages','tagline','overview','production_countries','release_date','id'],inplace=True)"
   ]
  },
  {
   "cell_type": "code",
   "execution_count": 564,
   "metadata": {},
   "outputs": [],
   "source": [
    "# exp = df['genres'].str.split(',', expand=True).drop(columns=[0,2,4,6,8,10,12])\n",
    "# exp.head()"
   ]
  },
  {
   "cell_type": "code",
   "execution_count": 571,
   "metadata": {},
   "outputs": [],
   "source": [
    "#genres = [set(['Comedy', 'Drama', 'Thriller','Action', 'Animation', 'Horror','Documentary','Adventure','Crime','Mystery','Fantasy','Horror','Thriller','War','Science Fiction','Romance','Action','Music','Documentary','Adventure','Western','Mystery','Family','History','Foreign','Family','War','TV Movie'])]\n",
    "genlist = ['Action',\n",
    "  'Adventure',\n",
    "  'Animation',\n",
    "  'Comedy',\n",
    "  'Crime',\n",
    "  'Documentary',\n",
    "  'Drama',\n",
    "  'Family',\n",
    "  'Fantasy',\n",
    "  'Foreign',\n",
    "  'History',\n",
    "  'Horror',\n",
    "  'Music',\n",
    "  'Mystery',\n",
    "  'Romance',\n",
    "  'Science Fiction',\n",
    "  'TV Movie',\n",
    "  'Thriller',\n",
    "  'War',\n",
    "  'Western']\n",
    "df = pd.concat([df,pd.DataFrame(columns=genlist)],sort=False)\n",
    "df['genres'] = df['genres'].astype(str)"
   ]
  },
  {
   "cell_type": "code",
   "execution_count": 591,
   "metadata": {},
   "outputs": [],
   "source": [
    "for i in genlist:\n",
    "    for j in range(5):\n",
    "        if i in (df['genres'].iloc[j]):\n",
    "            df[i].iloc[j] = 1\n",
    "        else:\n",
    "            df[i].iloc[j] = 0            "
   ]
  },
  {
   "cell_type": "markdown",
   "metadata": {},
   "source": [
    "# Linear Regression"
   ]
  },
  {
   "cell_type": "code",
   "execution_count": 351,
   "metadata": {},
   "outputs": [],
   "source": [
    "# temporary for first run\n",
    "df.drop(columns=['genres','production_companies','title','Keywords','cast','crew'],inplace=True)\n",
    "df.dropna(how='any',inplace=True)"
   ]
  },
  {
   "cell_type": "code",
   "execution_count": 352,
   "metadata": {},
   "outputs": [],
   "source": [
    "y=df.pop('revenue')\n",
    "X=df"
   ]
  },
  {
   "cell_type": "code",
   "execution_count": 353,
   "metadata": {},
   "outputs": [
    {
     "name": "stderr",
     "output_type": "stream",
     "text": [
      "/home/logan/anaconda3/lib/python3.7/site-packages/sklearn/preprocessing/data.py:625: DataConversionWarning: Data with input dtype int64, float64 were all converted to float64 by StandardScaler.\n",
      "  return self.partial_fit(X, y)\n"
     ]
    }
   ],
   "source": [
    "X_train, X_test, y_train, y_test = train_test_split(X, y, test_size=0.30)\n",
    "scaler=StandardScaler().fit(X_train)\n",
    "model = LinearRegression().fit(X_train, y_train)"
   ]
  },
  {
   "cell_type": "code",
   "execution_count": 354,
   "metadata": {},
   "outputs": [],
   "source": [
    "yhat = model.predict(X_test)\n",
    "error = mean_squared_error(y_test, yhat) ** 0.5"
   ]
  },
  {
   "cell_type": "code",
   "execution_count": 355,
   "metadata": {},
   "outputs": [
    {
     "data": {
      "text/plain": [
       "79919298.22206645"
      ]
     },
     "execution_count": 355,
     "metadata": {},
     "output_type": "execute_result"
    }
   ],
   "source": [
    "error"
   ]
  },
  {
   "cell_type": "markdown",
   "metadata": {},
   "source": [
    "# Gradient Boost"
   ]
  },
  {
   "cell_type": "code",
   "execution_count": null,
   "metadata": {},
   "outputs": [],
   "source": []
  }
 ],
 "metadata": {
  "kernelspec": {
   "display_name": "Python 3",
   "language": "python",
   "name": "python3"
  },
  "language_info": {
   "codemirror_mode": {
    "name": "ipython",
    "version": 3
   },
   "file_extension": ".py",
   "mimetype": "text/x-python",
   "name": "python",
   "nbconvert_exporter": "python",
   "pygments_lexer": "ipython3",
   "version": "3.7.1"
  }
 },
 "nbformat": 4,
 "nbformat_minor": 2
}
